{
 "cells": [
  {
   "cell_type": "markdown",
   "metadata": {
    "id": "mo4MwTZtocWC"
   },
   "source": [
    "# Backprop своими руками"
   ]
  },
  {
   "cell_type": "markdown",
   "metadata": {
    "id": "ZTn-EUeLocWG"
   },
   "source": [
    "Материалы:\n",
    "\n",
    "* [Andrew Karpahy: yes, you should understand backprop](https://medium.com/@karpathy/yes-you-should-understand-backprop-e2f06eab496b)\n",
    "* [Stanford CS231n](http://cs231n.stanford.edu/)\n",
    "* [Deep Learning](http://sereja.me/f/deep_learning_goodfellow.pdf) — с 204 страницы и до прозрения\n",
    "* [Xavier, Bengio](http://proceedings.mlr.press/v9/glorot10a/glorot10a.pdf)"
   ]
  },
  {
   "cell_type": "markdown",
   "metadata": {
    "id": "vr9onIFLocWI"
   },
   "source": [
    "<img width='800px' src='https://cdn-images-1.medium.com/max/1600/1*q1M7LGiDTirwU-4LcFq7_Q.png'>"
   ]
  },
  {
   "cell_type": "markdown",
   "metadata": {
    "id": "0pNAiOscocWJ"
   },
   "source": [
    "Иногда сети пишут на чистом C++, причём код для обучения и инференса (реального прогона в продакшне) — отдельно. Так делают, когда нужен очень быстрый отклик и высокая производительность, но это очень трудоемко.\n",
    "\n",
    "Большинство людей не усложняют себе жизнь и просто используют фреймворки — с ними можно просто почти декларативно описать, какие операции хотите сделать с данными, а он потом сам построит сеть и подгонит её под данные.\n",
    "\n",
    "Ваше задание — реализовать свой небольшой фреймворк глубокого обучения на чистом `numpy`. Основное время у вас должно уйти на вывод формул для градиентов, анализ поведения самых часто используемых слоев в современных нейросетях и прочий матан. Хотя бы один раз в жизни это надо сделать, а уже потом пользоваться готовыми абстракциями."
   ]
  },
  {
   "cell_type": "markdown",
   "metadata": {
    "id": "boLW-DeTocWL"
   },
   "source": [
    "Предполагаемый порядок выполнения:\n",
    "* Поймите на высоком уровне, как работает алгоритм backpropagation\n",
    "* Изучите пример с логиситической регрессией, чтобы понять, что от вас в итоге хотят\n",
    "* Изучите код `Module`\n",
    "* `Sequential`\n",
    "* `Linear`\n",
    "* `SoftMax`\n",
    "* `CrossEntropy`\n",
    "* Протестируйте их на логситической регрессии\n",
    "* Напишите код для решения MNIST\n",
    "* Дописывайте остальные слои, пока не получите на нём 97%"
   ]
  },
  {
   "cell_type": "markdown",
   "metadata": {
    "id": "sPciq6WzocWN"
   },
   "source": [
    "Оценивание (суммарно до 20 баллов):\n",
    "* 5 баллов -- что-то хоть как-то обучается, MNIST на валидации >90%\n",
    "* 2 балла -- MNIST на 95%, дальше по одному баллу за 96%, 97% и 98%. Это будет сделать намного сложнее, чем через PyTorch, потому что вам всё нужно писать самим: более сложные оптимизаторы, learning rate decay, думать про численную стабильность и т. д.\n",
    "* По 2 балла за слои: LeakyReLU, Dropout, BatchNorm, CrossEntropy, SoftMax"
   ]
  },
  {
   "cell_type": "markdown",
   "metadata": {
    "id": "VrI9amBAocWO"
   },
   "source": [
    "Советы:\n",
    "* Чтобы лучше понять, что должно в итоге получиться, изучите «игрушечный пример» и вообще эту тетрадку, а потом начните читать `hw_framework.py`, где будет более техничное описание.\n",
    "* Для дебага проверяйте градиенты численно — сдвигайте параметры на какой-нибудь эпсилон и смотрите разницу. Ещё можете проверить, что на одинаковых данных они дают то же, что их эквиваленты из PyTorch (можно после каждого нового слоя добавить юнит тест через `assert`).\n",
    "* Пишите код без циклов — в питоне они очень долгие; все вычисления можно делать внутри numpy.\n",
    "* Ограничение на срок сдачи большое — до конца всего курса, но рекомендуется закончить примерно за месяц. Дописывайте его постепенно, разбираясь, как работает каждая функция активации.\n",
    "* Обсуждайте математику и общую архитектуру фреймворка, но не шарьте друг другу код — так не интересно."
   ]
  },
  {
   "cell_type": "code",
   "execution_count": 40,
   "metadata": {
    "id": "osDsI56TocWQ"
   },
   "outputs": [],
   "source": [
    "import numpy as np\n",
    "import matplotlib.pyplot as plt\n",
    "%matplotlib inline"
   ]
  },
  {
   "cell_type": "markdown",
   "metadata": {
    "id": "rArLbzznocWU"
   },
   "source": [
    "---"
   ]
  },
  {
   "cell_type": "markdown",
   "metadata": {
    "id": "9SpmBG6XocWV"
   },
   "source": [
    "Откройте в Jupyter две тетрадки — эту и `hw_framework.ipynb`. В этой содержится train loop, а там непосредственно ваш «фреймворк», который вам ещё предстоит написать.\n",
    "\n",
    "Архитектура фреймворка вдохновлена PyTorch. Как всегда, если придумаете какой-то более клёвый дизайн — можете использовать его."
   ]
  },
  {
   "cell_type": "code",
   "execution_count": 240,
   "metadata": {
    "colab": {
     "base_uri": "https://localhost:8080/"
    },
    "id": "AR35O38uocWX",
    "outputId": "411e62d4-a631-433a-eac7-522437aa212f"
   },
   "outputs": [
    {
     "name": "stdout",
     "output_type": "stream",
     "text": [
      "Wall time: 341 ms\n",
      "Wall time: 19.9 ms\n"
     ]
    }
   ],
   "source": [
    "%run hw_framework.ipynb"
   ]
  },
  {
   "cell_type": "markdown",
   "metadata": {
    "id": "Z03GIF03ocWc"
   },
   "source": [
    "Мы будем использовать самый простой вариант градиентного спуска: просто пройдемся по всем параметрам и сделаем шаги в сторону уменьшения посчитанного заранее градиента.\n",
    "\n",
    "Есть [более продвинутые методы](http://ruder.io/optimizing-gradient-descent/), но пока что мы их использовать не будем."
   ]
  },
  {
   "cell_type": "code",
   "execution_count": 42,
   "metadata": {
    "id": "gIkgsfAXocWd"
   },
   "outputs": [],
   "source": [
    "def SGD(params, gradients, lr=1e-3):    \n",
    "    for weights, gradient in zip(params, gradients):\n",
    "        #print(type(lr), type(gradient))\n",
    "        #print(lr, gradient)\n",
    "        weights -= lr * gradient"
   ]
  },
  {
   "cell_type": "markdown",
   "metadata": {
    "id": "PfBYatsKocWh"
   },
   "source": [
    "Cоздадим обертку вокруг нашего датасета (просто numpy-евские массивы), которую будем потом использовать, чтобы итерироваться по нему."
   ]
  },
  {
   "cell_type": "code",
   "execution_count": 43,
   "metadata": {
    "id": "jDmJKg8hocWi"
   },
   "outputs": [],
   "source": [
    "def loader(X, Y, batch_size):    \n",
    "    n = X.shape[0]\n",
    "\n",
    "    # в начале каждой эпохи будем всё перемешивать\n",
    "    # важно, что мы пермешиваем индексы, а не X\n",
    "    indices = np.arange(n)\n",
    "    np.random.shuffle(indices)\n",
    "    \n",
    "    for start in range(0, n, batch_size):\n",
    "        # в конце нам, возможно, нужно взять неполный батч\n",
    "        end = min(start + batch_size, n)\n",
    "        \n",
    "        batch_idx = indices[start:end]\n",
    "    \n",
    "        yield X[batch_idx], Y[batch_idx]"
   ]
  },
  {
   "cell_type": "markdown",
   "metadata": {
    "id": "yMcWZrUPocWm"
   },
   "source": [
    "В следующих двух секциях — игрушечные примеры регрессии и классификации на синтезированных данных. В них ничего менять не надо — они нужны, чтобы отдебажить ваши слои в `hw_framework`."
   ]
  },
  {
   "cell_type": "markdown",
   "metadata": {
    "id": "MLPP2pyMocWn"
   },
   "source": [
    "# Линейная регрессия"
   ]
  },
  {
   "cell_type": "code",
   "execution_count": 184,
   "metadata": {
    "colab": {
     "base_uri": "https://localhost:8080/"
    },
    "id": "i2oHX9NQocWo",
    "outputId": "e18071b8-c2bb-4961-a8a4-e282e98223f3",
    "scrolled": true
   },
   "outputs": [
    {
     "name": "stdout",
     "output_type": "stream",
     "text": [
      "best_possible_mse: 0.02935227159655249\n"
     ]
    }
   ],
   "source": [
    "n = 1000\n",
    "\n",
    "X = np.random.randn(n, 10)\n",
    "true_w = np.random.randn(10, 1)\n",
    "Y = np.dot(X, true_w).reshape(n) + np.random.randn() / 5\n",
    "\n",
    "print('best_possible_mse:', np.mean(np.power(Y-np.dot(X, true_w).reshape(n), 2)))"
   ]
  },
  {
   "cell_type": "markdown",
   "metadata": {
    "id": "gu4bulrKocWs"
   },
   "source": [
    "### Модель"
   ]
  },
  {
   "cell_type": "code",
   "execution_count": 185,
   "metadata": {
    "colab": {
     "base_uri": "https://localhost:8080/",
     "height": 234
    },
    "id": "2bHZzM0XocWt",
    "outputId": "e8883283-7acd-400a-de1f-243c73d0483d"
   },
   "outputs": [],
   "source": [
    "model = Sequential(\n",
    "    Linear(10, 9),\n",
    "    BatchNorm(4, 0),\n",
    "    Linear(9, 8),\n",
    "    Dropout(0.9),\n",
    "    Linear(8, 1)\n",
    ")\n",
    "\n",
    "criterion = MSE()"
   ]
  },
  {
   "cell_type": "markdown",
   "metadata": {
    "id": "dsdkT55BocWx"
   },
   "source": [
    "Можете тут потом тестировать остальные свои слои, когда их напишите."
   ]
  },
  {
   "cell_type": "markdown",
   "metadata": {
    "id": "G6cJy-nOocWy"
   },
   "source": [
    "### Обучение"
   ]
  },
  {
   "cell_type": "code",
   "execution_count": 186,
   "metadata": {
    "id": "P3Y7VImUocW0"
   },
   "outputs": [],
   "source": [
    "epochs = 10\n",
    "batch_size = 10\n",
    "learning_rate = 1e-3"
   ]
  },
  {
   "cell_type": "code",
   "execution_count": 187,
   "metadata": {
    "id": "8NHCVPRiocW4"
   },
   "outputs": [
    {
     "data": {
      "image/png": "[encoded data removed]",
      "text/plain": [
       "<Figure size 432x288 with 1 Axes>"
      ]
     },
     "metadata": {
      "needs_background": "light"
     },
     "output_type": "display_data"
    }
   ],
   "source": [
    "history = []\n",
    "\n",
    "for i in range(epochs):\n",
    "    for x, y_true in loader(X, Y, batch_size):\n",
    "        # forward -- считаем все значения до функции потерь\n",
    "        y_pred, y_true = model.forward(x), y_true.reshape((10, 1))\n",
    "        loss = criterion.forward(y_pred, y_true)\n",
    "        \n",
    "#         print(y_pred, y_true)\n",
    "#         print('SUM OF SQUARES:', np.mean(np.power(y_pred-y_true, 2)))\n",
    "    \n",
    "        # backward -- считаем все градиенты в обратном порядке\n",
    "        grad = criterion.backward(y_pred, y_true)\n",
    "        model.backward(x, grad)\n",
    "        \n",
    "        # обновляем веса\n",
    "        SGD(model.parameters(),\n",
    "            model.grad_parameters(),\n",
    "            learning_rate)\n",
    "        \n",
    "        history.append(loss)\n",
    "\n",
    "    \n",
    "plt.title(\"Training loss\")\n",
    "plt.xlabel(\"iteration\")\n",
    "plt.ylabel(\"loss\")\n",
    "plt.plot(history, 'b')\n",
    "plt.show()"
   ]
  },
  {
   "cell_type": "markdown",
   "metadata": {},
   "source": [
    "Примерно работает."
   ]
  },
  {
   "cell_type": "markdown",
   "metadata": {
    "id": "33YJP2KeocW8"
   },
   "source": [
    "# Логистическая регрессия\n",
    "\n",
    "Этот пример нужнен для теситрования классификации (`CrossEntropy` и `SoftMax`).\n",
    "\n",
    "Возьмем в качестве датасета точки из двух гауссиан на плоскости."
   ]
  },
  {
   "cell_type": "code",
   "execution_count": 9,
   "metadata": {
    "id": "Vy-6IgGWocW9",
    "scrolled": false
   },
   "outputs": [
    {
     "data": {
      "image/png": "[encoded data removed]",
      "text/plain": [
       "<Figure size 432x288 with 1 Axes>"
      ]
     },
     "metadata": {
      "needs_background": "light"
     },
     "output_type": "display_data"
    }
   ],
   "source": [
    "n = 500\n",
    "\n",
    "X1 = np.random.randn(n, 2) + np.array([2, 2])\n",
    "X2 = np.random.randn(n, 2) + np.array([-2, -2])\n",
    "X = np.vstack([X1, X2])\n",
    "\n",
    "Y = np.concatenate([np.ones(n), np.zeros(n)])[:, None]\n",
    "Y = np.hstack([Y, 1-Y])\n",
    "\n",
    "plt.scatter(X[:,0], X[:,1], c=Y[:,0])\n",
    "plt.show()"
   ]
  },
  {
   "cell_type": "markdown",
   "metadata": {
    "id": "g6ga19VxocXB"
   },
   "source": [
    "Обратите внимание на `y`. Он в формате one-hot: у каждого вектора все нули, кроме одной единицы.\n",
    "\n",
    "Выходные данные в таком формате упростят написание `CrossEntropy`."
   ]
  },
  {
   "cell_type": "markdown",
   "metadata": {
    "id": "zNDguGQXocXD"
   },
   "source": [
    "### Модель\n",
    "\n",
    "Логистическая регрессия — это тоже как бы маленькая нейронка: линейный слой, софтмакс, и максимизируем правдоподобие."
   ]
  },
  {
   "cell_type": "code",
   "execution_count": 10,
   "metadata": {
    "id": "fdKlc0EgocXE"
   },
   "outputs": [],
   "source": [
    "model = Sequential(\n",
    "    Linear(2, 2),\n",
    "    SoftMax()\n",
    ")\n",
    "\n",
    "criterion = CrossEntropy()"
   ]
  },
  {
   "cell_type": "markdown",
   "metadata": {
    "id": "NMoT8yXCocXI"
   },
   "source": [
    "### Обучение"
   ]
  },
  {
   "cell_type": "code",
   "execution_count": 11,
   "metadata": {
    "id": "KIk7RXUrocXJ"
   },
   "outputs": [],
   "source": [
    "epochs = 100\n",
    "batch_size = 16\n",
    "learning_rate = 1e-2"
   ]
  },
  {
   "cell_type": "code",
   "execution_count": 12,
   "metadata": {
    "id": "6RU473D9ocXN",
    "scrolled": false
   },
   "outputs": [
    {
     "data": {
      "image/png": "[encoded data removed]",
      "text/plain": [
       "<Figure size 432x288 with 1 Axes>"
      ]
     },
     "metadata": {
      "needs_background": "light"
     },
     "output_type": "display_data"
    }
   ],
   "source": [
    "history = []\n",
    "\n",
    "for i in range(epochs):\n",
    "    for x, y_true in loader(X, Y, batch_size):\n",
    "        # forward: считаем все значения до функции потерь\n",
    "        y_pred = model.forward(x)\n",
    "        loss = criterion.forward(y_pred, y_true)\n",
    "#         print(loss)\n",
    "    \n",
    "        # backward: считаем все градиенты в обратном порядке\n",
    "        grad = criterion.backward(y_pred, y_true)\n",
    "        model.backward(x, grad)\n",
    "        \n",
    "        # обновляем веса\n",
    "        SGD(model.parameters(),\n",
    "            model.grad_parameters(),\n",
    "            learning_rate)\n",
    "        \n",
    "        # логгируем лосс\n",
    "        history.append(loss)\n",
    "\n",
    "    \n",
    "plt.title(\"Training loss\")\n",
    "plt.xlabel(\"iteration\")\n",
    "plt.ylabel(\"loss\")\n",
    "plt.plot(history, 'b')\n",
    "plt.show()"
   ]
  },
  {
   "cell_type": "markdown",
   "metadata": {
    "id": "Mc_7Av6uocXR"
   },
   "source": [
    "Мы тут пропустили много важных деталей: валидация, подсчет точности (кроссэнтропия не очень информативна), регуляризация. Вам всё это нужно будет реализовать потом самим."
   ]
  },
  {
   "cell_type": "markdown",
   "metadata": {
    "id": "tmqQxNhFocXS"
   },
   "source": [
    "# Теперь сами"
   ]
  },
  {
   "cell_type": "code",
   "execution_count": 202,
   "metadata": {
    "id": "BRYIbyvzocXT"
   },
   "outputs": [],
   "source": [
    "import os\n",
    "from sklearn.datasets import fetch_openml\n",
    "\n",
    "\n",
    "mnist = fetch_openml('mnist_784', version=1, cache=True)\n",
    "# очень важно его отнормировать -- см. Linear в hw_framework\n",
    "X = mnist.data / 255.0\n",
    "y = mnist.target\n",
    "np.savez('mnist.npz', X=X, y=y)"
   ]
  },
  {
   "cell_type": "markdown",
   "metadata": {
    "id": "FPZV7JdYocXa"
   },
   "source": [
    "Переведите лейблы в one-hot."
   ]
  },
  {
   "cell_type": "code",
   "execution_count": 203,
   "metadata": {},
   "outputs": [
    {
     "data": {
      "text/plain": [
       "array(['5', '0', '4', ..., '4', '5', '6'], dtype=object)"
      ]
     },
     "execution_count": 203,
     "metadata": {},
     "output_type": "execute_result"
    }
   ],
   "source": [
    "y"
   ]
  },
  {
   "cell_type": "code",
   "execution_count": 204,
   "metadata": {
    "id": "A0n63WKSocXc"
   },
   "outputs": [],
   "source": [
    "y_hot = np.zeros((y.shape[0], 10))"
   ]
  },
  {
   "cell_type": "code",
   "execution_count": 205,
   "metadata": {},
   "outputs": [
    {
     "data": {
      "text/plain": [
       "array([[0., 0., 0., ..., 0., 0., 0.],\n",
       "       [1., 0., 0., ..., 0., 0., 0.],\n",
       "       [0., 0., 0., ..., 0., 0., 0.],\n",
       "       ...,\n",
       "       [0., 0., 0., ..., 0., 0., 0.],\n",
       "       [0., 0., 0., ..., 0., 0., 0.],\n",
       "       [0., 0., 0., ..., 0., 0., 0.]])"
      ]
     },
     "execution_count": 205,
     "metadata": {},
     "output_type": "execute_result"
    }
   ],
   "source": [
    "for entry in range(len(y_hot)):\n",
    "    y_hot[entry][int(y[entry])] = 1\n",
    "y_hot"
   ]
  },
  {
   "cell_type": "markdown",
   "metadata": {
    "id": "d726biJBocXj"
   },
   "source": [
    "Разделите датасет на train и validation."
   ]
  },
  {
   "cell_type": "code",
   "execution_count": 206,
   "metadata": {
    "id": "VDMMhl24ocXk"
   },
   "outputs": [],
   "source": [
    "from sklearn.model_selection import train_test_split\n",
    "\n",
    "train_ratio = 0.75\n",
    "trainX, testX, trainY, testY = train_test_split(X, y_hot, train_size=train_ratio)"
   ]
  },
  {
   "cell_type": "code",
   "execution_count": 207,
   "metadata": {},
   "outputs": [
    {
     "data": {
      "text/plain": [
       "((52500, 784), (52500, 10))"
      ]
     },
     "execution_count": 207,
     "metadata": {},
     "output_type": "execute_result"
    }
   ],
   "source": [
    "trainX.shape, trainY.shape"
   ]
  },
  {
   "cell_type": "code",
   "execution_count": 225,
   "metadata": {},
   "outputs": [
    {
     "name": "stdout",
     "output_type": "stream",
     "text": [
      "6\n",
      "[0. 0. 0. 0. 0. 0. 1. 0. 0. 0.]\n"
     ]
    }
   ],
   "source": [
    "print(y[999], y_hot[999], sep='\\n')"
   ]
  },
  {
   "cell_type": "markdown",
   "metadata": {
    "id": "XHv3CVCIocXo"
   },
   "source": [
    "Теперь напишите модель и train loop. Можете начать с адаптации предыдущего примера.\n",
    "\n",
    "Дальше начинается творческая часть и настоящий Deep Learning:\n",
    "* поиграйтесь с архитектурами;\n",
    "* поиграйтесь с learning rate и batch_size;\n",
    "* сделайте learning rate decay;\n",
    "* сделайте data augmentation.\n",
    "\n",
    "Have fun. Дедлайн — не две недели, а до конца курса."
   ]
  },
  {
   "cell_type": "code",
   "execution_count": 287,
   "metadata": {},
   "outputs": [],
   "source": [
    "model = Sequential(\n",
    "    Linear(28 * 28, 700),\n",
    "    LeakyReLU(0.01),\n",
    "    Linear(700, 10),\n",
    "    SoftMax()\n",
    ")\n",
    "\n",
    "criterion = CrossEntropy()"
   ]
  },
  {
   "cell_type": "code",
   "execution_count": 288,
   "metadata": {
    "id": "q4XW6uFEocXp"
   },
   "outputs": [],
   "source": [
    "epochs = 5\n",
    "batch_size = 100\n",
    "learning_rate = 5e-3"
   ]
  },
  {
   "cell_type": "code",
   "execution_count": 289,
   "metadata": {
    "id": "EHGcq3iMocXs"
   },
   "outputs": [
    {
     "data": {
      "image/png": "[encoded data removed]",
      "text/plain": [
       "<Figure size 432x288 with 1 Axes>"
      ]
     },
     "metadata": {
      "needs_background": "light"
     },
     "output_type": "display_data"
    }
   ],
   "source": [
    "history = []\n",
    "\n",
    "for i in range(epochs):\n",
    "    for x, y_true in loader(trainX, trainY, batch_size):\n",
    "        y_pred = model.forward(x)\n",
    "        loss = criterion.forward(y_pred, y_true)\n",
    "        \n",
    "        grad = criterion.backward(y_pred, y_true)\n",
    "        model.backward(x, grad)\n",
    "        \n",
    "        SGD(model.parameters(),\n",
    "            model.grad_parameters(),\n",
    "            learning_rate)\n",
    "#         learning_rate *= 0.9\n",
    "        \n",
    "        history.append(loss)\n",
    "\n",
    "    \n",
    "plt.title(\"Training loss\")\n",
    "plt.xlabel(\"iteration\")\n",
    "plt.ylabel(\"loss\")\n",
    "plt.plot(history, 'b')\n",
    "plt.show()"
   ]
  },
  {
   "cell_type": "code",
   "execution_count": null,
   "metadata": {},
   "outputs": [],
   "source": []
  }
 ],
 "metadata": {
  "colab": {
   "collapsed_sections": [],
   "name": "hw_backpropa.ipynb",
   "provenance": []
  },
  "kernelspec": {
   "display_name": "Python 3",
   "language": "python",
   "name": "python3"
  },
  "language_info": {
   "codemirror_mode": {
    "name": "ipython",
    "version": 3
   },
   "file_extension": ".py",
   "mimetype": "text/x-python",
   "name": "python",
   "nbconvert_exporter": "python",
   "pygments_lexer": "ipython3",
   "version": "3.8.8"
  }
 },
 "nbformat": 4,
 "nbformat_minor": 1
}
